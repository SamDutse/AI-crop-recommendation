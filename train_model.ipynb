{
 "cells": [
  {
   "cell_type": "code",
   "execution_count": 2,
   "metadata": {},
   "outputs": [
    {
     "name": "stdout",
     "output_type": "stream",
     "text": [
      "✅ Model retrained using only weather features & saved successfully!\n"
     ]
    }
   ],
   "source": [
    "import pandas as pd\n",
    "import numpy as np\n",
    "from sklearn.model_selection import train_test_split\n",
    "from sklearn.preprocessing import StandardScaler\n",
    "from sklearn.ensemble import RandomForestClassifier\n",
    "import joblib\n",
    "\n",
    "# Load dataset\n",
    "df = pd.read_csv(\"data/crop_recommendation.csv\")\n",
    "\n",
    "# Define crops grown in Nigeria\n",
    "nigerian_crops = [\n",
    "    \"maize\", \"rice\", \"sorghum\", \"millet\", \"cowpea\", \"groundnut\",\n",
    "    \"cassava\", \"yam\", \"sweet potato\", \"tomato\", \"pepper\", \"okra\",\n",
    "    \"banana\", \"pineapple\", \"palm oil\", \"soybean\", \"cocoa\", \"rubber\"\n",
    "]\n",
    "\n",
    "# Filter dataset for Nigerian crops\n",
    "df = df[df[\"label\"].isin(nigerian_crops)]\n",
    "\n",
    "# Select only weather-related features\n",
    "X = df[[\"temperature\", \"humidity\", \"rainfall\"]]  # Ensure dataset has these columns\n",
    "y = df[\"label\"]\n",
    "\n",
    "# Split dataset\n",
    "X_train, X_test, y_train, y_test = train_test_split(X, y, test_size=0.2, random_state=42)\n",
    "\n",
    "# Scale the features\n",
    "scaler = StandardScaler()\n",
    "X_train_scaled = scaler.fit_transform(X_train)\n",
    "X_test_scaled = scaler.transform(X_test)\n",
    "\n",
    "# Train model\n",
    "model = RandomForestClassifier(n_estimators=100, random_state=42)\n",
    "model.fit(X_train_scaled, y_train)\n",
    "\n",
    "# Save the trained model & scaler\n",
    "joblib.dump(model, \"models/crop_recommendation_model.pkl\")\n",
    "joblib.dump(scaler, \"models/scaler.pkl\")\n",
    "\n",
    "print(\"✅ Model retrained using only weather features & saved successfully!\")\n"
   ]
  },
  {
   "cell_type": "code",
   "execution_count": null,
   "metadata": {},
   "outputs": [],
   "source": []
  }
 ],
 "metadata": {
  "kernelspec": {
   "display_name": "crop-recommendation",
   "language": "python",
   "name": "python3"
  },
  "language_info": {
   "codemirror_mode": {
    "name": "ipython",
    "version": 3
   },
   "file_extension": ".py",
   "mimetype": "text/x-python",
   "name": "python",
   "nbconvert_exporter": "python",
   "pygments_lexer": "ipython3",
   "version": "3.9.21"
  }
 },
 "nbformat": 4,
 "nbformat_minor": 2
}
